{
 "cells": [
  {
   "cell_type": "markdown",
   "id": "47d600bd",
   "metadata": {},
   "source": [
    "# Add MinIO to an existing VM (optional)"
   ]
  },
  {
   "cell_type": "markdown",
   "id": "2d781195",
   "metadata": {},
   "source": [
    "### **Requirements:** a VM running your MySQL database (tutorial 1 complete).\n"
   ]
  },
  {
   "cell_type": "markdown",
   "id": "bb8b6649",
   "metadata": {},
   "source": [
    "In this tutorial we'll cover how to launch MinIO from an existing VM (which was configured in the previous tutorial). \n",
    "\n",
    "MinIO is an object storage server useful for storing large files. If all of your data files are small (roughly <10 MB), you can probably just store all of your data directly in the MySQL database and skip this part. If you need to access larger files, then this tutorial is for you.\n",
    "\n",
    "-----------------------"
   ]
  },
  {
   "cell_type": "markdown",
   "id": "3936de1d",
   "metadata": {},
   "source": [
    "## 1. Mount your external volume"
   ]
  },
  {
   "cell_type": "markdown",
   "id": "a8fe79ee",
   "metadata": {},
   "source": [
    "The specifics here will vary based on your setup. We'll cover some general steps, but if you're part of an organization, you should probably reach out to a system admin.\n",
    "\n",
    "First, create a folder on your VM instance (we'll assume here that the folder is called `minio`) attach the volume to this folder on the VM instance (e.g. via your cloud computing platform, such as OpenStack, or by plugging in an external hard drive). Run `lsblk` or `df -h` to list all devices and check that it is attached (it will probably look something like `/dev/sdb1`). "
   ]
  },
  {
   "cell_type": "markdown",
   "id": "0e5621fe",
   "metadata": {},
   "source": [
    "We'll make a new terminal session using tmux, a terminal multiplexer (which is a fancy way of saying that it opens terminal session which you can attach to or detatch from). We'll launching our MinIO service in this terminal, MinIO will keep running in this terminal even if you disconnect from the server or your network connection is interrupted. \n",
    "\n",
    "Let's create a new terminal session and name it \"minio\":"
   ]
  },
  {
   "cell_type": "markdown",
   "id": "6c972cbc",
   "metadata": {},
   "source": [
    "<pre style=\"background-color: #1E1E1E; color: white; padding: 10px; border-radius: 5px; border-left: 5px solid #007bff;\">\n",
    "tmux new -s minio\n",
    "</pre>"
   ]
  },
  {
   "cell_type": "markdown",
   "id": "6421e1bd",
   "metadata": {},
   "source": [
    "Now you're in your new tmux terminal. \n",
    "\n",
    "(You can detach from the tmux session and return to your normal terminal by pressing `Ctrl+B D`. You can later reattach to the session using the command `tmux attach -t minio`.)"
   ]
  },
  {
   "cell_type": "markdown",
   "id": "1231a1b7",
   "metadata": {},
   "source": [
    "## 2. Launch the MinIO server"
   ]
  },
  {
   "cell_type": "markdown",
   "id": "2a8c2f4d",
   "metadata": {},
   "source": [
    "Now we'll launch our MinIO server container using Docker. The command below maps ports 9000 and 9001 from the host to the container for server and console access, mounts the host `minio` directory as a volume for data storage, and sets up root access credentials for the server. **Enter a password of your choosing.**"
   ]
  },
  {
   "cell_type": "markdown",
   "id": "33dbb208",
   "metadata": {},
   "source": [
    "<pre style=\"background-color: #1E1E1E; color: white; padding: 10px; border-radius: 5px; border-left: 5px solid #007bff;\">\n",
    "sudo docker run -p 9000:9000 -p 9001:9001 --name minio -v ~/minio:/data -e \"MINIO_ROOT_USER=root\" -e \"MINIO_ROOT_PASSWORD=&lt;password&gt;\" quay.io/minio/minio:RELEASE.2021-10-23T03-28-24Z server /data -console-address \":9001\"\n",
    "</pre>"
   ]
  },
  {
   "cell_type": "markdown",
   "id": "7aaf3797",
   "metadata": {},
   "source": [
    "You should now be able to access your MinIO console via a web browser at `http://<your.ip>:9001`."
   ]
  },
  {
   "cell_type": "code",
   "execution_count": null,
   "id": "7dd606f3",
   "metadata": {},
   "outputs": [],
   "source": []
  },
  {
   "cell_type": "markdown",
   "id": "251319b9",
   "metadata": {},
   "source": []
  }
 ],
 "metadata": {
  "kernelspec": {
   "display_name": "Python 3 (ipykernel)",
   "language": "python",
   "name": "python3"
  },
  "language_info": {
   "codemirror_mode": {
    "name": "ipython",
    "version": 3
   },
   "file_extension": ".py",
   "mimetype": "text/x-python",
   "name": "python",
   "nbconvert_exporter": "python",
   "pygments_lexer": "ipython3",
   "version": "3.8.10"
  }
 },
 "nbformat": 4,
 "nbformat_minor": 5
}
